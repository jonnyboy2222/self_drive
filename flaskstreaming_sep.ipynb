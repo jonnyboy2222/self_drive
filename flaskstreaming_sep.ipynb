{
 "cells": [
  {
   "cell_type": "code",
   "execution_count": 21,
   "id": "cad7f0b0",
   "metadata": {},
   "outputs": [],
   "source": [
    "from flask import Flask, Response, render_template_string\n",
    "import cv2\n",
    "from time import sleep"
   ]
  },
  {
   "cell_type": "code",
   "execution_count": 29,
   "id": "ac88167d",
   "metadata": {},
   "outputs": [],
   "source": [
    "app = Flask(__name__)\n",
    "camera = cv2.VideoCapture(0)"
   ]
  },
  {
   "cell_type": "code",
   "execution_count": 30,
   "id": "7b1f96ff",
   "metadata": {},
   "outputs": [],
   "source": [
    "def generate_frames():\n",
    "    while True:\n",
    "        sleep(0.1)\n",
    "        ref, frame = camera.read()\n",
    "\n",
    "        if not ref:\n",
    "            print(\"Camera load failed\")\n",
    "            break\n",
    "        else:\n",
    "            ref, buffer = cv2.imencode(\".jpg\", frame)\n",
    "            frame = buffer.tobytes()\n",
    "\n",
    "            yield (b'--frame\\r\\n'\n",
    "                   b'Content-Type: image/jpeg\\r\\n\\r\\n' + frame + b'\\r\\n')"
   ]
  },
  {
   "cell_type": "code",
   "execution_count": null,
   "id": "180eaa44",
   "metadata": {},
   "outputs": [],
   "source": [
    "@app.route('/')\n",
    "def Index():\n",
    "    content = \"\"\"\n",
    "    <html>\n",
    "        <head>\n",
    "            <meta charset=\"utf-8\">\n",
    "            <meta name=\"viewport\" content=\"width=device-width, initial-scale=1, shrink-to-fit=no\">\n",
    "            <link rel=\"stylesheet\" href=\"https://stackpath.bootstrapcdn.com/bootstrap/4.1.3/css/bootstrap.min.css\"\n",
    "                    integrity=\"sha384-MCw98/SFnGE8fJT3GXwEOngsV7Zt27NXFoaoApmYm81iuXoPkFOJwJ8ERdknLPMO\" crossorigin=\"anonymous\">\n",
    "            <title>Test for Live Streaming</title>\n",
    "        </head>\n",
    "    <body>\n",
    "        <div class=\"container\">\n",
    "            <div class=\"row\">\n",
    "                <div class=\"col-lg-8  offset-lg-2\">\n",
    "                    <h3 class=\"mt-5\">Test for Live Streaming</h3>\n",
    "                    <img src=\"{{ url_for('Stream') }}\" width=\"100%\">\n",
    "                </div>\n",
    "            </div>\n",
    "        </div>\n",
    "    </body>\n",
    "    </html>\n",
    "    \"\"\"\n",
    "\n",
    "    return render_template_string(content)"
   ]
  },
  {
   "cell_type": "code",
   "execution_count": 32,
   "id": "693ce6b6",
   "metadata": {},
   "outputs": [],
   "source": [
    "@app.route(\"/stream\")\n",
    "def Stream():\n",
    "    return Response(generate_frames(), mimetype='multipart/x-mixed-replace; boundary=frame')"
   ]
  },
  {
   "cell_type": "code",
   "execution_count": 33,
   "id": "5fffb0c2",
   "metadata": {},
   "outputs": [
    {
     "name": "stdout",
     "output_type": "stream",
     "text": [
      " * Serving Flask app '__main__'\n",
      " * Debug mode: off\n"
     ]
    },
    {
     "name": "stderr",
     "output_type": "stream",
     "text": [
      "\u001b[31m\u001b[1mWARNING: This is a development server. Do not use it in a production deployment. Use a production WSGI server instead.\u001b[0m\n",
      " * Running on all addresses (0.0.0.0)\n",
      " * Running on http://127.0.0.1:5000\n",
      " * Running on http://192.168.2.30:5000\n",
      "\u001b[33mPress CTRL+C to quit\u001b[0m\n",
      "192.168.2.30 - - [21/Apr/2025 12:20:35] \"GET / HTTP/1.1\" 200 -\n",
      "192.168.2.30 - - [21/Apr/2025 12:20:36] \"GET /stream HTTP/1.1\" 200 -\n"
     ]
    }
   ],
   "source": [
    "if __name__ == \"__main__\":\n",
    "    app.run(host=\"0.0.0.0\", port=5000)"
   ]
  },
  {
   "cell_type": "code",
   "execution_count": 35,
   "id": "0331f29e",
   "metadata": {},
   "outputs": [],
   "source": [
    "camera.release()"
   ]
  }
 ],
 "metadata": {
  "kernelspec": {
   "display_name": "yolo_venv",
   "language": "python",
   "name": "python3"
  },
  "language_info": {
   "codemirror_mode": {
    "name": "ipython",
    "version": 3
   },
   "file_extension": ".py",
   "mimetype": "text/x-python",
   "name": "python",
   "nbconvert_exporter": "python",
   "pygments_lexer": "ipython3",
   "version": "3.12.3"
  }
 },
 "nbformat": 4,
 "nbformat_minor": 5
}
