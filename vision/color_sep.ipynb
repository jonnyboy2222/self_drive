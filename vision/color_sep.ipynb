{
 "cells": [
  {
   "cell_type": "code",
   "execution_count": 2,
   "id": "3358ff83",
   "metadata": {},
   "outputs": [],
   "source": [
    "from ultralytics import YOLO\n",
    "import cv2\n",
    "import time\n",
    "import torch\n",
    "import numpy as np"
   ]
  },
  {
   "cell_type": "code",
   "execution_count": 3,
   "id": "2b08dedb",
   "metadata": {},
   "outputs": [],
   "source": [
    "MODEL_PATH = \"yolov8n.pt\""
   ]
  },
  {
   "cell_type": "code",
   "execution_count": 4,
   "id": "3c94dc43",
   "metadata": {},
   "outputs": [],
   "source": [
    "model = YOLO(MODEL_PATH)"
   ]
  },
  {
   "cell_type": "code",
   "execution_count": 5,
   "id": "93aed26e",
   "metadata": {},
   "outputs": [],
   "source": [
    "if torch.cuda.is_available():\n",
    "    model.to(\"cuda\")\n",
    "else:\n",
    "    model.to(\"cpu\")"
   ]
  },
  {
   "cell_type": "code",
   "execution_count": 6,
   "id": "48c54419",
   "metadata": {},
   "outputs": [],
   "source": [
    "camera = cv2.VideoCapture(0)"
   ]
  },
  {
   "cell_type": "code",
   "execution_count": 7,
   "id": "d5cd0986",
   "metadata": {},
   "outputs": [],
   "source": [
    "camera.release()"
   ]
  },
  {
   "cell_type": "code",
   "execution_count": 8,
   "id": "be14dac7",
   "metadata": {},
   "outputs": [],
   "source": [
    "CLASS_NAMES = model.names"
   ]
  },
  {
   "cell_type": "code",
   "execution_count": 9,
   "id": "521fef84",
   "metadata": {},
   "outputs": [],
   "source": [
    "TARGET_CLASS_TRAFFIC_LIGHT = \"traffic light\""
   ]
  },
  {
   "cell_type": "code",
   "execution_count": 18,
   "id": "aa5ac689",
   "metadata": {},
   "outputs": [],
   "source": [
    "camera = cv2.VideoCapture(0)\n",
    "while True:\n",
    "    ret, frame = camera.read()\n",
    "\n",
    "    if not ret:\n",
    "        print(\"Error while loading camera\")\n",
    "        break\n",
    "    \n",
    "    \n",
    "    copyframe = frame.copy()\n",
    "    results = model(frame, stream=False, verbose=False, conf=0.5)\n",
    "\n",
    "    detected_traffic_lights = []\n",
    "\n",
    "    for result in results:\n",
    "        boxes = result.boxes\n",
    "        for box in boxes:\n",
    "            cls = int(box.cls[0])\n",
    "            conf = float(box.conf[0])\n",
    "            x1, y1, x2, y2 = map(int, box.xyxy[0])\n",
    "            class_name = CLASS_NAMES[cls]\n",
    "\n",
    "            if class_name.lower() == TARGET_CLASS_TRAFFIC_LIGHT.lower():\n",
    "                           \n",
    "                roi = frame[y1:y2, x1:x2]\n",
    "\n",
    "                hsv = cv2.cvtColor(roi, cv2.COLOR_BGR2HSV)\n",
    "\n",
    "                avg_hue = np.mean(hsv[:,:,0])\n",
    "\n",
    "\n",
    "                if avg_hue < 15 or avg_hue > 165:\n",
    "                    light_color = \"RED\"\n",
    "                    color = (0, 0, 255) # Red BGR\n",
    "                elif 40 < avg_hue < 90:\n",
    "                    light_color = \"GREEN\"\n",
    "                    color = (0, 255, 0) # Green BGR\n",
    "                else:\n",
    "                    light_color = \"UNKNOWN\"\n",
    "                    color = (0, 255, 255)\n",
    "\n",
    "                detected_traffic_lights.append({\n",
    "                    \"box\": (x1, y1, x2, y2),\n",
    "                    \"color\": light_color,\n",
    "                    \"hue\": avg_hue,\n",
    "                    \"confidence\": conf,\n",
    "                    \"draw_color\": color\n",
    "                })\n",
    "\n",
    "\n",
    "    for light in detected_traffic_lights:\n",
    "             x1, y1, x2, y2 = light[\"box\"]\n",
    "             label = f\"Light: {light['color']} ({light['hue']:.1f})\"\n",
    "             cv2.rectangle(copyframe, (x1, y1), (x2, y2), light[\"draw_color\"], 2)\n",
    "             cv2.putText(copyframe, label, (x1, y1 - 10),\n",
    "                         cv2.FONT_HERSHEY_SIMPLEX, 0.5, light[\"draw_color\"], 2)\n",
    "\n",
    "\n",
    "    cv2.imshow(\"detected\", copyframe)\n",
    "\n",
    "    if cv2.waitKey(1) & 0xFF == ord('q'):\n",
    "        break\n",
    "\n",
    "camera.release()\n",
    "cv2.destroyAllWindows()\n",
    "\n",
    "\n",
    "\n",
    "            \n",
    "\n",
    "\n"
   ]
  }
 ],
 "metadata": {
  "kernelspec": {
   "display_name": "yolo_venv",
   "language": "python",
   "name": "python3"
  },
  "language_info": {
   "codemirror_mode": {
    "name": "ipython",
    "version": 3
   },
   "file_extension": ".py",
   "mimetype": "text/x-python",
   "name": "python",
   "nbconvert_exporter": "python",
   "pygments_lexer": "ipython3",
   "version": "3.12.3"
  }
 },
 "nbformat": 4,
 "nbformat_minor": 5
}
